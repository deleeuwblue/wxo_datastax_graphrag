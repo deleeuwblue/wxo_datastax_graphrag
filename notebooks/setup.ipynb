{
 "cells": [
  {
   "cell_type": "markdown",
   "id": "edcf1421",
   "metadata": {},
   "source": [
    "Move Review AI with Datastax and Orchestrate"
   ]
  },
  {
   "cell_type": "code",
   "execution_count": null,
   "id": "807547ef",
   "metadata": {},
   "outputs": [],
   "source": [
    "from dotenv import load_dotenv,find_dotenv\n",
    "\n",
    "dotenv_path = find_dotenv(filename='.env')\n",
    "print('Loading env from ' +dotenv_path)\n",
    "load_dotenv(dotenv_path)"
   ]
  },
  {
   "cell_type": "markdown",
   "id": "e0a63a0d",
   "metadata": {},
   "source": [
    "load the data from filesystem to the Astra database"
   ]
  },
  {
   "cell_type": "code",
   "execution_count": null,
   "id": "d2963b52",
   "metadata": {},
   "outputs": [],
   "source": [
    "import pandas as pd\n",
    "\n",
    "DATA_PATH='../data/'\n",
    "\n",
    "# read the datasets from CSV files\n",
    "reviews_all = pd.read_csv(DATA_PATH + \"rotten_tomatoes_movie_reviews.csv\")\n",
    "movies_all = pd.read_csv(DATA_PATH + \"rotten_tomatoes_movies.csv\")\n",
    "\n",
    "# rename the id columns to more informative and useful names\n",
    "reviews_all = reviews_all.rename(columns={\"id\": \"reviewed_movie_id\"})\n",
    "movies_all = movies_all.rename(columns={\"id\": \"movie_id\"})\n",
    "\n",
    "print(\"Data is loaded from CSV.\")"
   ]
  },
  {
   "cell_type": "code",
   "execution_count": null,
   "id": "a805c687",
   "metadata": {},
   "outputs": [],
   "source": [
    "import os\n",
    "from langchain_astradb import AstraDBVectorStore\n",
    "from langchain_ibm import WatsonxEmbeddings\n",
    "\n",
    "embeddings = WatsonxEmbeddings(\n",
    "    model_id=\"ibm/slate-125m-english-rtrvr\",\n",
    "    url=\"https://us-south.ml.cloud.ibm.com\",\n",
    "    apikey=os.getenv('WATSONX_APIKEY'),\n",
    "    project_id=os.getenv('WATSONX_PROJECT_ID')\n",
    ")\n",
    "\n",
    "COLLECTION = \"movie_reviews_rotten_tomatoes\"\n",
    "vectorstore = AstraDBVectorStore(\n",
    "    embedding=embeddings,\n",
    "    collection_name=COLLECTION,\n",
    "    pre_delete_collection=True,\n",
    ")"
   ]
  },
  {
   "cell_type": "code",
   "execution_count": null,
   "id": "40a35fb5",
   "metadata": {},
   "outputs": [],
   "source": [
    "# Here, we limit our dataset to the movies with the most reviews. This is simply\n",
    "# to save data processing and loading time while testing things in this notebook.\n",
    "N_TOP_MOVIES = 10\n",
    "most_reviewed_movies = reviews_all[\"reviewed_movie_id\"].value_counts()[:N_TOP_MOVIES]\n",
    "\n",
    "most_reviewed_movies\n",
    "\n",
    "# subset the data to only reviews and movies corresponding to the most reviewed movies\n",
    "reviews_data = reviews_all[\n",
    "    reviews_all[\"reviewed_movie_id\"].isin(most_reviewed_movies.index)\n",
    "]\n",
    "movies_data = movies_all[movies_all[\"movie_id\"].isin(most_reviewed_movies.index)]"
   ]
  },
  {
   "cell_type": "code",
   "execution_count": null,
   "id": "a10dfc14",
   "metadata": {},
   "outputs": [],
   "source": [
    "from langchain_core.documents import Document\n",
    "\n",
    "# Convert each movie review into a LangChain document\n",
    "documents = []\n",
    "# convert each movie into a LangChain document\n",
    "for index, row in movies_data.iterrows():\n",
    "    content = str(row[\"title\"])\n",
    "    metadata = row.fillna(\"\").astype(str).to_dict()\n",
    "    metadata[\"doc_type\"] = \"movie_info\"\n",
    "    document = Document(page_content=content, metadata=metadata)\n",
    "    documents.append(document)\n",
    "\n",
    "\n",
    "for index, row in reviews_data.iterrows():\n",
    "    content = str(row[\"reviewText\"])\n",
    "    metadata = row.drop(\"reviewText\").fillna(\"\").astype(str).to_dict()\n",
    "    metadata[\"doc_type\"] = \"movie_review\"\n",
    "    document = Document(page_content=content, metadata=metadata)\n",
    "    documents.append(document)\n",
    "\n",
    "\n",
    "# check the total number of documents\n",
    "print(\"There are\", len(documents), \"total Documents\")"
   ]
  },
  {
   "cell_type": "code",
   "execution_count": null,
   "id": "b11fedaf",
   "metadata": {},
   "outputs": [],
   "source": [
    "# add documents to the store\n",
    "vectorstore.add_documents(documents)\n",
    "\n",
    "# NOTE: this may take some minutes to load many documents"
   ]
  },
  {
   "cell_type": "code",
   "execution_count": null,
   "id": "f412438d",
   "metadata": {},
   "outputs": [],
   "source": [
    "from graph_retriever.strategies import Eager\n",
    "from langchain_graph_retriever import GraphRetriever\n",
    "\n",
    "retriever = GraphRetriever(\n",
    "    store=vectorstore,\n",
    "    edges=[(\"reviewed_movie_id\", \"movie_id\")],\n",
    "    strategy=Eager(start_k=10, adjacent_k=10, select_k=100, max_depth=1),\n",
    ")"
   ]
  },
  {
   "cell_type": "code",
   "execution_count": null,
   "id": "89003815",
   "metadata": {},
   "outputs": [],
   "source": [
    "INITIAL_PROMPT_TEXT = \"What are some good family movies?\"\n",
    "# INITIAL_PROMPT_TEXT = \"What are some recommendations of exciting action movies?\"\n",
    "# INITIAL_PROMPT_TEXT = \"What are some classic movies with amazing cinematography?\"\n",
    "\n",
    "\n",
    "# invoke the query\n",
    "query_results = retriever.invoke(INITIAL_PROMPT_TEXT)\n",
    "\n",
    "# print the raw retrieved results\n",
    "for result in query_results:\n",
    "    print(result.metadata[\"doc_type\"], \": \", result.page_content)\n",
    "    print(result.metadata)\n",
    "    print()"
   ]
  },
  {
   "cell_type": "code",
   "execution_count": null,
   "id": "85fe24e5",
   "metadata": {},
   "outputs": [],
   "source": [
    "# collect the movie info for each film retrieved\n",
    "compiled_results = {}\n",
    "for result in query_results:\n",
    "    if result.metadata[\"doc_type\"] == \"movie_info\":\n",
    "        movie_id = result.metadata[\"movie_id\"]\n",
    "        movie_title = result.metadata[\"title\"]\n",
    "        compiled_results[movie_id] = {\n",
    "            \"movie_id\": movie_id,\n",
    "            \"movie_title\": movie_title,\n",
    "            \"reviews\": {},\n",
    "        }\n",
    "\n",
    "# go through the results a second time, collecting the retreived reviews for\n",
    "# each of the movies\n",
    "for result in query_results:\n",
    "    if result.metadata[\"doc_type\"] == \"movie_review\":\n",
    "        reviewed_movie_id = result.metadata[\"reviewed_movie_id\"]\n",
    "        review_id = result.metadata[\"reviewId\"]\n",
    "        review_text = result.page_content\n",
    "        compiled_results[reviewed_movie_id][\"reviews\"][review_id] = review_text\n",
    "\n",
    "\n",
    "# compile the retrieved movies and reviews into a string that we can pass to an\n",
    "# LLM in an augmented prompt\n",
    "formatted_text = \"\"\n",
    "for movie_id, review_list in compiled_results.items():\n",
    "    formatted_text += \"\\n\\n Movie Title: \"\n",
    "    formatted_text += review_list[\"movie_title\"]\n",
    "    formatted_text += \"\\n Movie ID: \"\n",
    "    formatted_text += review_list[\"movie_id\"]\n",
    "    for review_id, review_text in review_list[\"reviews\"].items():\n",
    "        formatted_text += \"\\n Review: \"\n",
    "        formatted_text += review_text\n",
    "\n",
    "\n",
    "print(formatted_text)"
   ]
  }
 ],
 "metadata": {
  "kernelspec": {
   "display_name": "Python 3",
   "language": "python",
   "name": "python3"
  },
  "language_info": {
   "codemirror_mode": {
    "name": "ipython",
    "version": 3
   },
   "file_extension": ".py",
   "mimetype": "text/x-python",
   "name": "python",
   "nbconvert_exporter": "python",
   "pygments_lexer": "ipython3",
   "version": "3.12.11"
  }
 },
 "nbformat": 4,
 "nbformat_minor": 5
}
